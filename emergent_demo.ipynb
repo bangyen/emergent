{
 "cells": [
  {
   "cell_type": "markdown",
   "id": "7fb27b941602401d91542211134fc71a",
   "metadata": {
    "id": "7fb27b941602401d91542211134fc71a"
   },
   "source": [
    "# Language Emergence Lab Demo\n",
    "\n",
    "This notebook demonstrates how artificial agents learn to communicate about objects through referential games.\n",
    "\n",
    "## What is Language Emergence?\n",
    "\n",
    "The Language Emergence Lab studies how communication protocols emerge from interaction between neural agents:\n",
    "\n",
    "1. **Speaker-Listener Architecture**: Neural agents that learn to communicate about visual objects\n",
    "2. **Discrete Communication**: Agents use discrete tokens (like words) for communication  \n",
    "3. **Emergent Languages**: Communication protocols develop through interaction and reinforcement\n",
    "4. **Language Analysis**: We can analyze the systematicity and efficiency of emergent languages\n",
    "\n",
    "**Key Features:**\n",
    "- Multi-agent referential games with visual objects\n",
    "- Contrastive learning achieving 80%+ accuracy vs ~20% baseline\n",
    "- Population dynamics and cultural transmission studies\n",
    "- Comprehensive analysis of emergent language patterns"
   ]
  },
  {
   "cell_type": "markdown",
   "id": "acae54e37e7d407bbb7b55eff062a284",
   "metadata": {
    "id": "acae54e37e7d407bbb7b55eff062a284"
   },
   "source": [
    "## Setup and Installation"
   ]
  },
  {
   "cell_type": "code",
   "execution_count": null,
   "id": "9a63283cbaf04dbcab1f6479b197f3a8",
   "metadata": {
    "id": "9a63283cbaf04dbcab1f6479b197f3a8"
   },
   "outputs": [],
   "source": [
    "! [ ! -d \"emergent\" ] && git clone https://github.com/bangyen/emergent.git\n",
    "! cd emergent && pip install -e .\n",
    "\n",
    "print(\"Setup complete!\")"
   ]
  },
  {
   "cell_type": "code",
   "execution_count": null,
   "id": "e8dc22b0",
   "metadata": {},
   "outputs": [],
   "source": [
    "import os\n",
    "\n",
    "os.chdir(\"./emergent\")\n",
    "print(f\"Current working directory: {os.getcwd()}\")"
   ]
  },
  {
   "cell_type": "markdown",
   "id": "8dd0d8092fe74a7c96281538738b07e2",
   "metadata": {
    "id": "8dd0d8092fe74a7c96281538738b07e2"
   },
   "source": [
    "## Imports and Configuration"
   ]
  },
  {
   "cell_type": "code",
   "execution_count": null,
   "id": "0e0c4552",
   "metadata": {
    "id": "0e0c4552"
   },
   "outputs": [],
   "source": [
    "import os\n",
    "import numpy as np\n",
    "import torch\n",
    "import matplotlib.pyplot as plt\n",
    "from tqdm import tqdm\n",
    "\n",
    "# Import the Language Emergence Lab components\n",
    "from langlab import Speaker, Listener, sample_scene, CommunicationConfig\n",
    "\n",
    "# Set device and random seeds for reproducibility\n",
    "device = torch.device(\"cuda\" if torch.cuda.is_available() else \"cpu\")\n",
    "print(f\"Using device: {device}\")\n",
    "\n",
    "torch.manual_seed(42)\n",
    "np.random.seed(42)"
   ]
  },
  {
   "cell_type": "code",
   "execution_count": null,
   "id": "72eea5119410473aa328ad9291626812",
   "metadata": {
    "id": "72eea5119410473aa328ad9291626812"
   },
   "outputs": [],
   "source": [
    "\n",
    "# Configuration for our referential game\n",
    "config = CommunicationConfig(\n",
    "    vocabulary_size=10,      # Size of the message vocabulary\n",
    "    message_length=1,        # Length of messages (1 token for simplicity)\n",
    "    hidden_size=64,          # Hidden layer size\n",
    ")\n",
    "\n",
    "# Learning parameters\n",
    "learning_rate = 0.001\n",
    "batch_size = 32\n",
    "\n",
    "print(\"Configuration:\")\n",
    "print(f\"Vocabulary size: {config.vocabulary_size}\")\n",
    "print(f\"Message length: {config.message_length}\")\n",
    "print(f\"Hidden size: {config.hidden_size}\")"
   ]
  },
  {
   "cell_type": "markdown",
   "id": "8edb47106e1a46a883d545849b8ab81b",
   "metadata": {
    "id": "8edb47106e1a46a883d545849b8ab81b"
   },
   "source": [
    "## Quick Demo: Language Emergence\n",
    "\n",
    "Let's run a simple referential game where Speaker and Listener agents learn to communicate about objects:"
   ]
  },
  {
   "cell_type": "code",
   "execution_count": null,
   "id": "10185d26023b46108eb7d9f57d49d2b3",
   "metadata": {
    "id": "10185d26023b46108eb7d9f57d49d2b3"
   },
   "outputs": [],
   "source": [
    "# Initialize Speaker and Listener agents\n",
    "speaker = Speaker(config).to(device)\n",
    "listener = Listener(config).to(device)\n",
    "\n",
    "# Set up optimizers\n",
    "speaker_optimizer = torch.optim.Adam(speaker.parameters(), lr=learning_rate)\n",
    "listener_optimizer = torch.optim.Adam(listener.parameters(), lr=learning_rate)\n",
    "\n",
    "print(\"Agents initialized!\")\n",
    "print(f\"Speaker parameters: {sum(p.numel() for p in speaker.parameters()):,}\")\n",
    "print(f\"Listener parameters: {sum(p.numel() for p in listener.parameters()):,}\")\n",
    "\n",
    "# Sample a scene to see what objects look like\n",
    "scene_objects, target_idx = sample_scene(k=3, seed=42)\n",
    "print(f\"\\nSample scene with {len(scene_objects)} objects:\")\n",
    "for i, obj in enumerate(scene_objects):\n",
    "    marker = \" ← TARGET\" if i == target_idx else \"\"\n",
    "    print(f\"  Object {i}: {obj}{marker}\")"
   ]
  },
  {
   "cell_type": "code",
   "execution_count": null,
   "id": "8763a12b2bbd4a93a75aff182afb95dc",
   "metadata": {
    "id": "8763a12b2bbd4a93a75aff182afb95dc"
   },
   "outputs": [],
   "source": [
    "# Simple training loop for referential game\n",
    "from langlab.data.world import encode_object\n",
    "\n",
    "def train_step(speaker, listener, scene_objects, target_idx, speaker_opt, listener_opt):\n",
    "    \"\"\"Single training step for the referential game.\"\"\"\n",
    "    speaker.train()\n",
    "    listener.train()\n",
    "    \n",
    "    # Encode the scene objects\n",
    "    scene_tensor = torch.stack([encode_object(obj) for obj in scene_objects]).to(device)\n",
    "    target_tensor = torch.tensor([target_idx], dtype=torch.long).to(device)  # Add batch dimension\n",
    "    \n",
    "    # Speaker generates message about target object\n",
    "    target_object = scene_tensor[target_idx:target_idx+1]\n",
    "    message_logits, message_tokens, gesture_logits, gesture_tokens = speaker(target_object)\n",
    "    \n",
    "    # Add batch dimension to scene_tensor for Listener (batch_size=1, num_candidates=3, object_dim)\n",
    "    scene_tensor_batched = scene_tensor.unsqueeze(0)  # Shape: (1, 3, object_dim)\n",
    "    \n",
    "    # Listener tries to identify target from message and scene\n",
    "    listener_logits = listener(message_tokens, scene_tensor_batched)\n",
    "    \n",
    "    # Compute loss (cross-entropy)\n",
    "    loss = torch.nn.functional.cross_entropy(listener_logits, target_tensor)\n",
    "    \n",
    "    # Backpropagation\n",
    "    speaker_opt.zero_grad()\n",
    "    listener_opt.zero_grad()\n",
    "    loss.backward()\n",
    "    speaker_opt.step()\n",
    "    listener_opt.step()\n",
    "    \n",
    "    return loss.item()\n",
    "\n",
    "# Train for a few steps\n",
    "print(\"Training agents...\")\n",
    "losses = []\n",
    "accuracies = []\n",
    "\n",
    "for step in tqdm(range(100), desc=\"Training\"):\n",
    "    # Sample a new scene each step\n",
    "    scene_objects, target_idx = sample_scene(k=3, seed=step)\n",
    "    \n",
    "    # Training step\n",
    "    loss = train_step(speaker, listener, scene_objects, target_idx, \n",
    "                     speaker_optimizer, listener_optimizer)\n",
    "    losses.append(loss)\n",
    "    \n",
    "    # Evaluate accuracy every 10 steps\n",
    "    if step % 10 == 0:\n",
    "        speaker.eval()\n",
    "        listener.eval()\n",
    "        with torch.no_grad():\n",
    "            scene_tensor = torch.stack([encode_object(obj) for obj in scene_objects]).to(device)\n",
    "            target_object = scene_tensor[target_idx:target_idx+1]\n",
    "            message_logits, message_tokens, gesture_logits, gesture_tokens = speaker(target_object)\n",
    "            # Add batch dimension to scene_tensor for Listener\n",
    "            scene_tensor_batched = scene_tensor.unsqueeze(0)  # Shape: (1, 3, object_dim)\n",
    "            listener_logits = listener(message_tokens, scene_tensor_batched)\n",
    "            predicted = torch.argmax(listener_logits, dim=1)\n",
    "            accuracy = (predicted == target_idx).float().mean().item()\n",
    "            accuracies.append(accuracy)\n",
    "\n",
    "print(\"\\nTraining complete!\")\n",
    "print(f\"Final loss: {losses[-1]:.4f}\")\n",
    "print(f\"Final accuracy: {accuracies[-1]:.2%}\")"
   ]
  },
  {
   "cell_type": "code",
   "execution_count": null,
   "id": "a24e0196",
   "metadata": {},
   "outputs": [],
   "source": [
    "# Visualize training progress\n",
    "fig, ax = plt.subplots(1, 1, figsize=(10, 6))\n",
    "\n",
    "# Plot raw loss\n",
    "ax.plot(losses, alpha=0.3, color='lightblue', label='Raw Loss')\n",
    "\n",
    "# Calculate and plot smoothed loss\n",
    "window_size = 10\n",
    "if len(losses) >= window_size:\n",
    "    smoothed_losses = []\n",
    "    for i in range(len(losses)):\n",
    "        start_idx = max(0, i - window_size + 1)\n",
    "        smoothed_loss = sum(losses[start_idx:i+1]) / (i - start_idx + 1)\n",
    "        smoothed_losses.append(smoothed_loss)\n",
    "    \n",
    "    ax.plot(smoothed_losses, color='blue', linewidth=2, label=f'Smoothed Loss (window={window_size})')\n",
    "\n",
    "ax.set_title('Training Loss')\n",
    "ax.set_xlabel('Step')\n",
    "ax.set_ylabel('Loss')\n",
    "ax.grid(True)\n",
    "ax.legend()\n",
    "\n",
    "plt.tight_layout()\n",
    "plt.show()\n",
    "\n",
    "print(f\"Random baseline accuracy: {1/3:.2%} (3 objects)\")\n",
    "print(f\"Final accuracy: {accuracies[-1]:.2%}\")\n",
    "print(f\"Improvement over random: {(accuracies[-1] - 1/3)*100:.1f} percentage points\")\n"
   ]
  },
  {
   "cell_type": "markdown",
   "id": "49b14673",
   "metadata": {},
   "source": [
    "## Key Takeaways\n",
    "\n",
    "This demo shows the core concepts of the Language Emergence Lab:\n",
    "\n",
    "1. **Multi-Agent Communication**: Speaker and Listener agents learn to communicate about visual objects\n",
    "2. **Emergent Languages**: Communication protocols develop through interaction and reinforcement\n",
    "3. **Discrete Messages**: Agents use discrete tokens (like words) for communication\n",
    "4. **Language Analysis**: We can analyze the systematicity and efficiency of emergent languages\n",
    "\n",
    "### Next Steps\n",
    "\n",
    "- **Full Training**: Use `langlab train --steps 5000 --k 5 --v 10` for longer training\n",
    "- **Population Studies**: Try `langlab pop-train` for cultural transmission experiments  \n",
    "- **Interactive Dashboard**: Launch `langlab dash` for visualization\n",
    "- **Advanced Features**: Explore contrastive learning, sequence models, and grid worlds\n",
    "\n",
    "### Research Applications\n",
    "\n",
    "- **Language Evolution**: Study how communication protocols change over time\n",
    "- **Compositionality**: Investigate systematic vs. holistic language emergence\n",
    "- **Cultural Transmission**: Model language learning across agent populations\n",
    "- **Pragmatic Inference**: Explore context-dependent communication strategies\n",
    "\n",
    "For more information, visit the [GitHub repository](https://github.com/bangyen/emergent).\n"
   ]
  }
 ],
 "metadata": {
  "colab": {
   "provenance": []
  },
  "kernelspec": {
   "display_name": "venv",
   "language": "python",
   "name": "python3"
  },
  "language_info": {
   "codemirror_mode": {
    "name": "ipython",
    "version": 3
   },
   "file_extension": ".py",
   "mimetype": "text/x-python",
   "name": "python",
   "nbconvert_exporter": "python",
   "pygments_lexer": "ipython3",
   "version": "3.12.9"
  }
 },
 "nbformat": 4,
 "nbformat_minor": 5
}
